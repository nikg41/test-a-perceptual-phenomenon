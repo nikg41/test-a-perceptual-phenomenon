{
 "cells": [
  {
   "cell_type": "markdown",
   "metadata": {},
   "source": [
    "### Analyzing the Stroop Effect\n",
    "Perform the analysis in the space below. Remember to follow [the instructions](https://docs.google.com/document/d/1-OkpZLjG_kX9J6LIQ5IltsqMzVWjh36QpnP2RYpVdPU/pub?embedded=True) and review the [project rubric](https://review.udacity.com/#!/rubrics/71/view) before submitting. Once you've completed the analysis and write up, download this file as a PDF or HTML file and submit in the next section.\n",
    "\n",
    "\n",
    "(1) What is the independent variable? What is the dependent variable?"
   ]
  },
  {
   "cell_type": "markdown",
   "metadata": {},
   "source": [
    "Independent Variable : It is time taken to speak the colur of word.\n",
    "\n",
    "Dependent variable : Type of word i.e. congruent and uncongruent."
   ]
  },
  {
   "cell_type": "markdown",
   "metadata": {},
   "source": [
    "(2) What is an appropriate set of hypotheses for this task? What kind of statistical test do you expect to perform? Justify your choices."
   ]
  },
  {
   "cell_type": "markdown",
   "metadata": {},
   "source": [
    "#### Hypothesis Sets:\n",
    "Null Hypothesis :\n",
    "Time taken to speak congruent and uncongruent words are same i.e.     \n",
    "**$H_{0}$**: **$\\mu$${C}$** − **${\\mu}_{I}$** = 0     \n",
    "Alternative Hypothesis :     \n",
    "Time taken to speak congruent is not eqaul to uncongruent words i.e.    \n",
    "**$H_{1}$**: **$\\mu$${C}$** − **$\\mu$${I}$** != 0     \n",
    "where    \n",
    "**$H_{0}$**: Null Hypothesis   \n",
    "**$H_{1}$**: Alternate Hypothesis   \n",
    "**$\\mu$${C}$**: Congruent population mean   \n",
    "**$\\mu$${I}$**: Incongruent population mean\n",
    "\n",
    "So in this we can z-test and t-test. As the sample size is less then so we don't do the z-test And The sample size is less so we don't sample standard deviation. As it is done by the same persons so the variables are dependent on each other and so we need do the paired T-test.\n",
    "So, in this the answer can be any of the dirrection so we need to perform the two tailed T-test.\n",
    "                "
   ]
  },
  {
   "cell_type": "markdown",
   "metadata": {},
   "source": [
    "(3) Report some descriptive statistics regarding this dataset. Include at least one measure of central tendency and at least one measure of variability. The name of the data file is 'stroopdata.csv'."
   ]
  },
  {
   "cell_type": "code",
   "execution_count": 17,
   "metadata": {},
   "outputs": [
    {
     "name": "stdout",
     "output_type": "stream",
     "text": [
      "Congruent Mean is 14.051125000000004 and Standard deviation is 3.559357957645195 and Median is 14.3565\n",
      "Incongruent Mean is 22.01591666666667 and Standard deviation is 4.797057122469138 and Median is 21.0175\n"
     ]
    }
   ],
   "source": [
    "# Perform the analysis here\n",
    "import pandas as pd\n",
    "import numpy as np\n",
    "import scipy.stats as stats\n",
    "\n",
    "df = pd.read_csv(\"stroopdata.csv\")\n",
    "congruent_mean = np.mean(df['Congruent'])\n",
    "congruent_median = np.median(df['Congruent'])\n",
    "standard_deviation_congruent = np.std(df['Congruent'],ddof = 1)\n",
    "uncongruent_mean = np.mean(df['Incongruent'])\n",
    "standard_deviation_uncongruent = np.std(df['Incongruent'],ddof = 1)\n",
    "uncongruent_median = np.median(df['Incongruent'])\n",
    "print (\"Congruent Mean is {} and Standard deviation is {} and Median is {}\".format(congruent_mean,standard_deviation_congruent,congruent_median))\n",
    "print (\"Incongruent Mean is {} and Standard deviation is {} and Median is {}\".format(uncongruent_mean,standard_deviation_uncongruent,uncongruent_median))\n"
   ]
  },
  {
   "cell_type": "markdown",
   "metadata": {},
   "source": [
    "(4) Provide one or two visualizations that show the distribution of the sample data. Write one or two sentences noting what you observe about the plot or plots."
   ]
  },
  {
   "cell_type": "code",
   "execution_count": 16,
   "metadata": {},
   "outputs": [
    {
     "data": {
      "image/png": "[encoded data removed]",
      "text/plain": [
       "<matplotlib.figure.Figure at 0x2997c839e8>"
      ]
     },
     "metadata": {},
     "output_type": "display_data"
    },
    {
     "data": {
      "text/plain": [
       "[<matplotlib.text.Text at 0x2997c3fac8>,\n",
       " <matplotlib.text.Text at 0x2996484278>]"
      ]
     },
     "execution_count": 16,
     "metadata": {},
     "output_type": "execute_result"
    },
    {
     "data": {
      "image/png": "[encoded data removed]",
      "text/plain": [
       "<matplotlib.figure.Figure at 0x2997c835f8>"
      ]
     },
     "metadata": {},
     "output_type": "display_data"
    }
   ],
   "source": [
    "import matplotlib.pyplot as plt\n",
    "%matplotlib inline\n",
    "plt.hist(df['Congruent'],bins = 6, alpha = 0.5,label=\"Congruent Words\");\n",
    "plt.hist(df['Incongruent'],bins = 6,alpha = 0.5,label=\"Inongruent Words\");\n",
    "plt.legend(loc = \"upper right\")\n",
    "plt.ylabel(\"count\")\n",
    "plt.xlabel(\"Time to speak the word\")\n",
    "plt.show()\n",
    "fig = plt.figure(1,figsize = (7,7))\n",
    "ax = fig.add_subplot(111)\n",
    "data_set= [df['Congruent'],df['Incongruent']]\n",
    "ax.boxplot(data_set)\n",
    "ax.get_xaxis().tick_bottom()\n",
    "ax.get_yaxis().tick_left()\n",
    "ax.set_xticklabels([\"Congruent Words\",\"Incongruent Words\"])"
   ]
  },
  {
   "cell_type": "markdown",
   "metadata": {},
   "source": [
    "#### Observations :\n",
    "    So in this plot we can see that the medians of the both data are different and their means is also different.   \n",
    "    And in the Incongurent word data we can see outliers. "
   ]
  },
  {
   "cell_type": "markdown",
   "metadata": {},
   "source": [
    "(5) Now, perform the statistical test and report the results. What is the confidence level and your critical statistic value? Do you reject the null hypothesis or fail to reject it? Come to a conclusion in terms of the experiment task. Did the results match up with your expectations?"
   ]
  },
  {
   "cell_type": "code",
   "execution_count": 27,
   "metadata": {},
   "outputs": [
    {
     "data": {
      "text/plain": [
       "Ttest_relResult(statistic=8.020706944109957, pvalue=4.1030005857111781e-08)"
      ]
     },
     "execution_count": 27,
     "metadata": {},
     "output_type": "execute_result"
    }
   ],
   "source": [
    "stats.ttest_rel(df['Incongruent'],df['Congruent'])"
   ]
  },
  {
   "cell_type": "markdown",
   "metadata": {},
   "source": [
    " <em> Confidence level</em> : 95%   \n",
    " <em> Critical value </em> : +2.069,-2.069   \n",
    " <em> Observed value </em> : 8.0207   \n",
    " \n",
    " So in this we get the observed value greater than the critical value so we reject the null hypothesis. by the help of p-Value we can also reject it as it is much smaller then the 0.025 p-Value at the 95 % confidence level.   \n",
    " So by the result we can say that Congruent words are easy to speak then the Incongruent words.\n",
    " \n",
    " As i have expected the result came same as Incongruent words will make the user them difficult to speak and can take the longer time."
   ]
  },
  {
   "cell_type": "code",
   "execution_count": null,
   "metadata": {
    "collapsed": true
   },
   "outputs": [],
   "source": []
  }
 ],
 "metadata": {
  "kernelspec": {
   "display_name": "Python 3",
   "language": "python",
   "name": "python3"
  },
  "language_info": {
   "codemirror_mode": {
    "name": "ipython",
    "version": 3
   },
   "file_extension": ".py",
   "mimetype": "text/x-python",
   "name": "python",
   "nbconvert_exporter": "python",
   "pygments_lexer": "ipython3",
   "version": "3.6.2"
  }
 },
 "nbformat": 4,
 "nbformat_minor": 2
}
